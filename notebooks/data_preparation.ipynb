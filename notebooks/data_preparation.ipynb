{
 "cells": [
  {
   "cell_type": "code",
   "execution_count": 1,
   "metadata": {
    "colab": {},
    "colab_type": "code",
    "id": "PXr8zca7HbXJ"
   },
   "outputs": [],
   "source": [
    "import pandas as pd\n",
    "import numpy as np"
   ]
  },
  {
   "cell_type": "code",
   "execution_count": 2,
   "metadata": {
    "colab": {
     "base_uri": "https://localhost:8080/",
     "height": 71
    },
    "colab_type": "code",
    "id": "c11a1P4VHd2v",
    "outputId": "ef5497ef-3665-47bf-dff5-0f5c29855490"
   },
   "outputs": [
    {
     "name": "stderr",
     "output_type": "stream",
     "text": [
      "/opt/anaconda3/envs/py35/lib/python3.5/site-packages/IPython/core/interactiveshell.py:3058: DtypeWarning: Columns (0) have mixed types. Specify dtype option on import or set low_memory=False.\n",
      "  interactivity=interactivity, compiler=compiler, result=result)\n"
     ]
    }
   ],
   "source": [
    "df = pd.read_csv('stores_with_addresses.csv')"
   ]
  },
  {
   "cell_type": "code",
   "execution_count": 3,
   "metadata": {
    "colab": {
     "base_uri": "https://localhost:8080/",
     "height": 377
    },
    "colab_type": "code",
    "id": "zPi4Xd5HLFj7",
    "outputId": "615ef763-cc42-4147-f7e8-35db22623017"
   },
   "outputs": [
    {
     "data": {
      "text/html": [
       "<div>\n",
       "<style scoped>\n",
       "    .dataframe tbody tr th:only-of-type {\n",
       "        vertical-align: middle;\n",
       "    }\n",
       "\n",
       "    .dataframe tbody tr th {\n",
       "        vertical-align: top;\n",
       "    }\n",
       "\n",
       "    .dataframe thead th {\n",
       "        text-align: right;\n",
       "    }\n",
       "</style>\n",
       "<table border=\"1\" class=\"dataframe\">\n",
       "  <thead>\n",
       "    <tr style=\"text-align: right;\">\n",
       "      <th></th>\n",
       "      <th>Store Format</th>\n",
       "      <th>Address</th>\n",
       "      <th>Brand</th>\n",
       "      <th>2018 / January</th>\n",
       "      <th>2018 / February</th>\n",
       "      <th>2018 / March</th>\n",
       "      <th>2018 / April</th>\n",
       "      <th>2018 / May</th>\n",
       "      <th>2018 / June</th>\n",
       "      <th>2018 / July</th>\n",
       "      <th>...</th>\n",
       "      <th>2019 / March</th>\n",
       "      <th>2019 / April</th>\n",
       "      <th>2019 / May</th>\n",
       "      <th>2019 / June</th>\n",
       "      <th>2019 / July</th>\n",
       "      <th>2019 / August</th>\n",
       "      <th>2019 / September</th>\n",
       "      <th>2019 / October</th>\n",
       "      <th>2019 / November</th>\n",
       "      <th>2019 / December</th>\n",
       "    </tr>\n",
       "  </thead>\n",
       "  <tbody>\n",
       "    <tr>\n",
       "      <th>156044</th>\n",
       "      <td>NaN</td>\n",
       "      <td>NaN</td>\n",
       "      <td>Organika</td>\n",
       "      <td>0,1</td>\n",
       "      <td>0,3</td>\n",
       "      <td>0,3</td>\n",
       "      <td>NaN</td>\n",
       "      <td>NaN</td>\n",
       "      <td>NaN</td>\n",
       "      <td>NaN</td>\n",
       "      <td>...</td>\n",
       "      <td>NaN</td>\n",
       "      <td>NaN</td>\n",
       "      <td>NaN</td>\n",
       "      <td>NaN</td>\n",
       "      <td>NaN</td>\n",
       "      <td>NaN</td>\n",
       "      <td>NaN</td>\n",
       "      <td>NaN</td>\n",
       "      <td>NaN</td>\n",
       "      <td>0,1</td>\n",
       "    </tr>\n",
       "    <tr>\n",
       "      <th>156045</th>\n",
       "      <td>NaN</td>\n",
       "      <td>NaN</td>\n",
       "      <td>Spelta</td>\n",
       "      <td>NaN</td>\n",
       "      <td>NaN</td>\n",
       "      <td>NaN</td>\n",
       "      <td>NaN</td>\n",
       "      <td>NaN</td>\n",
       "      <td>NaN</td>\n",
       "      <td>NaN</td>\n",
       "      <td>...</td>\n",
       "      <td>NaN</td>\n",
       "      <td>NaN</td>\n",
       "      <td>NaN</td>\n",
       "      <td>NaN</td>\n",
       "      <td>NaN</td>\n",
       "      <td>0,1</td>\n",
       "      <td>NaN</td>\n",
       "      <td>NaN</td>\n",
       "      <td>NaN</td>\n",
       "      <td>NaN</td>\n",
       "    </tr>\n",
       "    <tr>\n",
       "      <th>156046</th>\n",
       "      <td>NaN</td>\n",
       "      <td>NaN</td>\n",
       "      <td>Vodka Other Brand</td>\n",
       "      <td>0,2</td>\n",
       "      <td>0,3</td>\n",
       "      <td>0,3</td>\n",
       "      <td>NaN</td>\n",
       "      <td>NaN</td>\n",
       "      <td>NaN</td>\n",
       "      <td>NaN</td>\n",
       "      <td>...</td>\n",
       "      <td>0,2</td>\n",
       "      <td>0,2</td>\n",
       "      <td>0,4</td>\n",
       "      <td>0,3</td>\n",
       "      <td>0,2</td>\n",
       "      <td>0,1</td>\n",
       "      <td>0,5</td>\n",
       "      <td>NaN</td>\n",
       "      <td>0,4</td>\n",
       "      <td>0,1</td>\n",
       "    </tr>\n",
       "    <tr>\n",
       "      <th>156047</th>\n",
       "      <td>NaN</td>\n",
       "      <td>Россия, г Москва, ш Ярославское, д 12 Total</td>\n",
       "      <td>NaN</td>\n",
       "      <td>15,4</td>\n",
       "      <td>15,0</td>\n",
       "      <td>15,0</td>\n",
       "      <td>NaN</td>\n",
       "      <td>NaN</td>\n",
       "      <td>NaN</td>\n",
       "      <td>NaN</td>\n",
       "      <td>...</td>\n",
       "      <td>11,8</td>\n",
       "      <td>9,1</td>\n",
       "      <td>9,8</td>\n",
       "      <td>11,0</td>\n",
       "      <td>10,6</td>\n",
       "      <td>11,5</td>\n",
       "      <td>9,2</td>\n",
       "      <td>8,0</td>\n",
       "      <td>8,3</td>\n",
       "      <td>12,6</td>\n",
       "    </tr>\n",
       "    <tr>\n",
       "      <th>156048</th>\n",
       "      <td>Supermarket Total</td>\n",
       "      <td>NaN</td>\n",
       "      <td>NaN</td>\n",
       "      <td>54 120,1</td>\n",
       "      <td>57 690,5</td>\n",
       "      <td>60 223,8</td>\n",
       "      <td>52 646,9</td>\n",
       "      <td>48 035,1</td>\n",
       "      <td>46 917,6</td>\n",
       "      <td>44 978,7</td>\n",
       "      <td>...</td>\n",
       "      <td>54 341,2</td>\n",
       "      <td>48 476,7</td>\n",
       "      <td>45 288,3</td>\n",
       "      <td>42 107,9</td>\n",
       "      <td>46 270,5</td>\n",
       "      <td>49 884,4</td>\n",
       "      <td>49 344,1</td>\n",
       "      <td>54 532,9</td>\n",
       "      <td>58 291,0</td>\n",
       "      <td>69 117,5</td>\n",
       "    </tr>\n",
       "  </tbody>\n",
       "</table>\n",
       "<p>5 rows × 27 columns</p>\n",
       "</div>"
      ],
      "text/plain": [
       "             Store Format                                      Address  \\\n",
       "156044                NaN                                          NaN   \n",
       "156045                NaN                                          NaN   \n",
       "156046                NaN                                          NaN   \n",
       "156047                NaN  Россия, г Москва, ш Ярославское, д 12 Total   \n",
       "156048  Supermarket Total                                          NaN   \n",
       "\n",
       "                    Brand  2018 / January   2018 / February   2018 / March   \\\n",
       "156044           Organika             0,1               0,3            0,3    \n",
       "156045             Spelta              NaN               NaN            NaN   \n",
       "156046  Vodka Other Brand             0,2               0,3            0,3    \n",
       "156047                NaN            15,4              15,0           15,0    \n",
       "156048                NaN        54 120,1          57 690,5       60 223,8    \n",
       "\n",
       "        2018 / April   2018 / May   2018 / June   2018 / July   ...  \\\n",
       "156044            NaN          NaN           NaN           NaN  ...   \n",
       "156045            NaN          NaN           NaN           NaN  ...   \n",
       "156046            NaN          NaN           NaN           NaN  ...   \n",
       "156047            NaN          NaN           NaN           NaN  ...   \n",
       "156048      52 646,9     48 035,1      46 917,6      44 978,7   ...   \n",
       "\n",
       "        2019 / March   2019 / April   2019 / May   2019 / June   2019 / July   \\\n",
       "156044            NaN            NaN          NaN           NaN           NaN   \n",
       "156045            NaN            NaN          NaN           NaN           NaN   \n",
       "156046           0,2            0,2          0,4           0,3           0,2    \n",
       "156047          11,8            9,1          9,8          11,0          10,6    \n",
       "156048      54 341,2       48 476,7     45 288,3      42 107,9      46 270,5    \n",
       "\n",
       "        2019 / August   2019 / September   2019 / October   2019 / November   \\\n",
       "156044             NaN                NaN              NaN               NaN   \n",
       "156045            0,1                 NaN              NaN               NaN   \n",
       "156046            0,1                0,5               NaN              0,4    \n",
       "156047           11,5                9,2              8,0               8,3    \n",
       "156048       49 884,4           49 344,1         54 532,9          58 291,0    \n",
       "\n",
       "        2019 / December   \n",
       "156044              0,1   \n",
       "156045               NaN  \n",
       "156046              0,1   \n",
       "156047             12,6   \n",
       "156048         69 117,5   \n",
       "\n",
       "[5 rows x 27 columns]"
      ]
     },
     "execution_count": 3,
     "metadata": {},
     "output_type": "execute_result"
    }
   ],
   "source": [
    "df.tail()"
   ]
  },
  {
   "cell_type": "code",
   "execution_count": 4,
   "metadata": {
    "colab": {},
    "colab_type": "code",
    "id": "FpZl2Aj9LHAT"
   },
   "outputs": [],
   "source": [
    "month_columns = [(c, pd.datetime.strptime(c, ' %Y / %B ')) for c in df.columns[3:]]\n",
    "new_rows = []\n",
    "\n",
    "store_format = None\n",
    "address = None\n",
    "skipped = 0\n",
    "for index, row in df.iterrows():\n",
    "    store_format = row['Store Format'] if not pd.isnull(row['Store Format']) else store_format\n",
    "    if not store_format:\n",
    "        raise ValueError('No store format!')\n",
    "    address = row['Address'] if not pd.isnull(row['Address']) else address\n",
    "    if not address:\n",
    "        raise ValueError('No address!')\n",
    "    if 'Total' in address:\n",
    "        skipped += 1\n",
    "        continue\n",
    "    for col_name, col_date in month_columns:\n",
    "        row_dict = dict(\n",
    "            brand=row['Brand'], \n",
    "            store_format=store_format, \n",
    "            address=address,\n",
    "            month=col_date.month,\n",
    "            year=col_date.year,\n",
    "            sales=row[col_name],\n",
    "        )\n",
    "        new_rows.append(row_dict)\n",
    "\n",
    "new_df = pd.DataFrame(new_rows, columns=['year', 'month', 'store_format', 'address', 'brand', 'sales'])  "
   ]
  },
  {
   "cell_type": "code",
   "execution_count": 5,
   "metadata": {
    "colab": {},
    "colab_type": "code",
    "id": "LrGQw7S7p1J_"
   },
   "outputs": [
    {
     "data": {
      "text/html": [
       "<div>\n",
       "<style scoped>\n",
       "    .dataframe tbody tr th:only-of-type {\n",
       "        vertical-align: middle;\n",
       "    }\n",
       "\n",
       "    .dataframe tbody tr th {\n",
       "        vertical-align: top;\n",
       "    }\n",
       "\n",
       "    .dataframe thead th {\n",
       "        text-align: right;\n",
       "    }\n",
       "</style>\n",
       "<table border=\"1\" class=\"dataframe\">\n",
       "  <thead>\n",
       "    <tr style=\"text-align: right;\">\n",
       "      <th></th>\n",
       "      <th>year</th>\n",
       "      <th>month</th>\n",
       "      <th>store_format</th>\n",
       "      <th>address</th>\n",
       "      <th>brand</th>\n",
       "      <th>sales</th>\n",
       "    </tr>\n",
       "  </thead>\n",
       "  <tbody>\n",
       "    <tr>\n",
       "      <th>3687883</th>\n",
       "      <td>2019</td>\n",
       "      <td>8</td>\n",
       "      <td>Supermarket</td>\n",
       "      <td>Россия, г Москва, ш Ярославское, д 12</td>\n",
       "      <td>Vodka Other Brand</td>\n",
       "      <td>0,1</td>\n",
       "    </tr>\n",
       "    <tr>\n",
       "      <th>3687884</th>\n",
       "      <td>2019</td>\n",
       "      <td>9</td>\n",
       "      <td>Supermarket</td>\n",
       "      <td>Россия, г Москва, ш Ярославское, д 12</td>\n",
       "      <td>Vodka Other Brand</td>\n",
       "      <td>0,5</td>\n",
       "    </tr>\n",
       "    <tr>\n",
       "      <th>3687885</th>\n",
       "      <td>2019</td>\n",
       "      <td>10</td>\n",
       "      <td>Supermarket</td>\n",
       "      <td>Россия, г Москва, ш Ярославское, д 12</td>\n",
       "      <td>Vodka Other Brand</td>\n",
       "      <td>NaN</td>\n",
       "    </tr>\n",
       "    <tr>\n",
       "      <th>3687886</th>\n",
       "      <td>2019</td>\n",
       "      <td>11</td>\n",
       "      <td>Supermarket</td>\n",
       "      <td>Россия, г Москва, ш Ярославское, д 12</td>\n",
       "      <td>Vodka Other Brand</td>\n",
       "      <td>0,4</td>\n",
       "    </tr>\n",
       "    <tr>\n",
       "      <th>3687887</th>\n",
       "      <td>2019</td>\n",
       "      <td>12</td>\n",
       "      <td>Supermarket</td>\n",
       "      <td>Россия, г Москва, ш Ярославское, д 12</td>\n",
       "      <td>Vodka Other Brand</td>\n",
       "      <td>0,1</td>\n",
       "    </tr>\n",
       "  </tbody>\n",
       "</table>\n",
       "</div>"
      ],
      "text/plain": [
       "         year  month store_format                                address  \\\n",
       "3687883  2019      8  Supermarket  Россия, г Москва, ш Ярославское, д 12   \n",
       "3687884  2019      9  Supermarket  Россия, г Москва, ш Ярославское, д 12   \n",
       "3687885  2019     10  Supermarket  Россия, г Москва, ш Ярославское, д 12   \n",
       "3687886  2019     11  Supermarket  Россия, г Москва, ш Ярославское, д 12   \n",
       "3687887  2019     12  Supermarket  Россия, г Москва, ш Ярославское, д 12   \n",
       "\n",
       "                     brand  sales  \n",
       "3687883  Vodka Other Brand   0,1   \n",
       "3687884  Vodka Other Brand   0,5   \n",
       "3687885  Vodka Other Brand    NaN  \n",
       "3687886  Vodka Other Brand   0,4   \n",
       "3687887  Vodka Other Brand   0,1   "
      ]
     },
     "execution_count": 5,
     "metadata": {},
     "output_type": "execute_result"
    }
   ],
   "source": [
    "new_df.tail()"
   ]
  },
  {
   "cell_type": "code",
   "execution_count": 6,
   "metadata": {},
   "outputs": [
    {
     "data": {
      "text/plain": [
       "True"
      ]
     },
     "execution_count": 6,
     "metadata": {},
     "output_type": "execute_result"
    }
   ],
   "source": [
    "(len(df) - skipped) * 24 == (len(new_df))"
   ]
  },
  {
   "cell_type": "code",
   "execution_count": 7,
   "metadata": {},
   "outputs": [
    {
     "data": {
      "text/plain": [
       "3687888"
      ]
     },
     "execution_count": 7,
     "metadata": {},
     "output_type": "execute_result"
    }
   ],
   "source": [
    "len(new_df)"
   ]
  },
  {
   "cell_type": "code",
   "execution_count": 8,
   "metadata": {},
   "outputs": [
    {
     "data": {
      "text/plain": [
       "3720"
      ]
     },
     "execution_count": 8,
     "metadata": {},
     "output_type": "execute_result"
    }
   ],
   "source": [
    "len(new_df[new_df['address'].isin(\n",
    "    ['Россия, г Москва', \n",
    "     'Россия, Московская обл, Сергиево-Посадский р-н, снт Москва (д Ильинки), д 17',\n",
    "     'Россия, Московская обл, Сергиево-Посадский р-н, снт Москва (д Ильинки)',]\n",
    "    )])"
   ]
  },
  {
   "cell_type": "code",
   "execution_count": 9,
   "metadata": {},
   "outputs": [],
   "source": [
    "clean_new_df = new_df.drop(new_df[new_df['address'].isin(\n",
    "    ['Россия, г Москва', \n",
    "     'Россия, Московская обл, Сергиево-Посадский р-н, снт Москва (д Ильинки), д 17',\n",
    "     'Россия, Московская обл, Сергиево-Посадский р-н, снт Москва (д Ильинки)',]\n",
    "    )]['address'].index)"
   ]
  },
  {
   "cell_type": "code",
   "execution_count": 10,
   "metadata": {},
   "outputs": [
    {
     "data": {
      "text/plain": [
       "3684168"
      ]
     },
     "execution_count": 10,
     "metadata": {},
     "output_type": "execute_result"
    }
   ],
   "source": [
    "len(clean_new_df)"
   ]
  },
  {
   "cell_type": "code",
   "execution_count": null,
   "metadata": {},
   "outputs": [],
   "source": []
  },
  {
   "cell_type": "code",
   "execution_count": null,
   "metadata": {},
   "outputs": [],
   "source": []
  },
  {
   "cell_type": "code",
   "execution_count": 11,
   "metadata": {},
   "outputs": [],
   "source": [
    "clean_new_df = clean_new_df.sort_values(by=['year', 'month'])"
   ]
  },
  {
   "cell_type": "code",
   "execution_count": null,
   "metadata": {},
   "outputs": [],
   "source": []
  },
  {
   "cell_type": "code",
   "execution_count": 12,
   "metadata": {},
   "outputs": [],
   "source": [
    "def transorm_sales(sales_value):\n",
    "    try:\n",
    "        return float(str(sales_value).strip().replace(',', '.'))\n",
    "    except ValueError:\n",
    "        return 0"
   ]
  },
  {
   "cell_type": "code",
   "execution_count": 13,
   "metadata": {},
   "outputs": [],
   "source": [
    "clean_new_df['sales'] = clean_new_df['sales'].apply(transorm_sales).astype(np.float32)"
   ]
  },
  {
   "cell_type": "code",
   "execution_count": null,
   "metadata": {},
   "outputs": [],
   "source": []
  },
  {
   "cell_type": "code",
   "execution_count": 14,
   "metadata": {},
   "outputs": [],
   "source": [
    "clean_new_df.to_csv('sales_transformed.csv')"
   ]
  },
  {
   "cell_type": "code",
   "execution_count": null,
   "metadata": {},
   "outputs": [],
   "source": []
  }
 ],
 "metadata": {
  "colab": {
   "collapsed_sections": [],
   "name": "CourseACH.ipynb",
   "provenance": []
  },
  "kernelspec": {
   "display_name": "Python 3",
   "language": "python",
   "name": "python3"
  },
  "language_info": {
   "codemirror_mode": {
    "name": "ipython",
    "version": 3
   },
   "file_extension": ".py",
   "mimetype": "text/x-python",
   "name": "python",
   "nbconvert_exporter": "python",
   "pygments_lexer": "ipython3",
   "version": "3.5.6"
  }
 },
 "nbformat": 4,
 "nbformat_minor": 1
}
